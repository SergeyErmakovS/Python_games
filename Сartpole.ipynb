{
 "cells": [
  {
   "cell_type": "code",
   "execution_count": 1,
   "metadata": {},
   "outputs": [],
   "source": [
    "import numpy as np\n",
    "import gym\n",
    "import time\n",
    "import math"
   ]
  },
  {
   "cell_type": "markdown",
   "metadata": {},
   "source": [
    "# CartPole-v1"
   ]
  },
  {
   "cell_type": "code",
   "execution_count": 109,
   "metadata": {},
   "outputs": [],
   "source": [
    "import gym\n",
    "env = gym.make('CartPole-v1', render_mode='human')\n",
    "\n",
    "env.reset()\n",
    "action = env.action_space.sample()\n",
    "new_state, reward, is_done, info, b = env.step(action)\n",
    "\n",
    "while not is_done:\n",
    "    \n",
    "    new_state, reward, is_done, info, b = env.step(action)\n",
    "    env.step(env.action_space.sample())\n",
    "    env.render()\n",
    "\n",
    "env.close()"
   ]
  }
 ],
 "metadata": {
  "kernelspec": {
   "display_name": "gymcopy",
   "language": "python",
   "name": "python3"
  },
  "language_info": {
   "codemirror_mode": {
    "name": "ipython",
    "version": 3
   },
   "file_extension": ".py",
   "mimetype": "text/x-python",
   "name": "python",
   "nbconvert_exporter": "python",
   "pygments_lexer": "ipython3",
   "version": "3.7.15"
  },
  "vscode": {
   "interpreter": {
    "hash": "441fe3ed8172128452b160d7fca5990d656acb4af060825dbf20e03e58d10487"
   }
  }
 },
 "nbformat": 4,
 "nbformat_minor": 2
}
