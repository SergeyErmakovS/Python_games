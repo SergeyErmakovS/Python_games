{
 "cells": [
  {
   "cell_type": "code",
   "execution_count": 1,
   "metadata": {},
   "outputs": [],
   "source": [
    "import numpy as np\n",
    "import gym\n",
    "import time\n",
    "import math"
   ]
  },
  {
   "cell_type": "markdown",
   "metadata": {},
   "source": [
    "# CartPole-v1"
   ]
  },
  {
   "cell_type": "code",
   "execution_count": 9,
   "metadata": {},
   "outputs": [],
   "source": [
    "import gym\n",
    "env = gym.make('CartPole-v1', render_mode='human')\n",
    "\n",
    "env.reset()\n",
    "action = env.action_space.sample()\n",
    "new_state, reward, is_done, info, b = env.step(action)\n",
    "\n",
    "while not is_done:\n",
    "    action = env.action_space.sample()\n",
    "    new_state, reward, is_done, info, b = env.step(action)\n",
    "    env.step(env.action_space.sample())\n",
    "    env.render()\n",
    "\n",
    "env.close()"
   ]
  },
  {
   "cell_type": "code",
   "execution_count": 31,
   "metadata": {},
   "outputs": [],
   "source": [
    "env.close()"
   ]
  },
  {
   "cell_type": "code",
   "execution_count": 30,
   "metadata": {},
   "outputs": [
    {
     "name": "stdout",
     "output_type": "stream",
     "text": [
      "Среднее полное вознаграждение в 1000 эпизодах: 22.526\n"
     ]
    }
   ],
   "source": [
    "n_episode = 1000\n",
    "\n",
    "env = gym.make('CartPole-v1', render_mode='human')\n",
    "env.reset()\n",
    "\n",
    "total_rewards = []\n",
    "for episode in range(n_episode):\n",
    "    \n",
    "    env.reset()\n",
    "    total_reward = 0\n",
    "    \n",
    "    is_done = False\n",
    "\n",
    "    while not is_done:\n",
    "        action = env.action_space.sample()\n",
    "        state, reward, is_done, info, b = env.step(action)\n",
    "        total_reward += reward\n",
    "    total_rewards.append(total_reward)\n",
    "\n",
    "print(f'Среднее полное вознаграждение в {n_episode} эпизодах: {sum(total_rewards)/n_episode}')\n",
    "\n",
    "env.close()"
   ]
  },
  {
   "cell_type": "code",
   "execution_count": 26,
   "metadata": {},
   "outputs": [
    {
     "data": {
      "text/plain": [
       "(array([ 2.9551022,  1.9173414, -4.2981873,  5.870501 ], dtype=float32),\n",
       " 0.0,\n",
       " True,\n",
       " False,\n",
       " {})"
      ]
     },
     "execution_count": 26,
     "metadata": {},
     "output_type": "execute_result"
    }
   ],
   "source": [
    "env.step(action)"
   ]
  }
 ],
 "metadata": {
  "kernelspec": {
   "display_name": "gymcopy",
   "language": "python",
   "name": "python3"
  },
  "language_info": {
   "codemirror_mode": {
    "name": "ipython",
    "version": 3
   },
   "file_extension": ".py",
   "mimetype": "text/x-python",
   "name": "python",
   "nbconvert_exporter": "python",
   "pygments_lexer": "ipython3",
   "version": "3.7.15"
  },
  "vscode": {
   "interpreter": {
    "hash": "441fe3ed8172128452b160d7fca5990d656acb4af060825dbf20e03e58d10487"
   }
  }
 },
 "nbformat": 4,
 "nbformat_minor": 2
}
